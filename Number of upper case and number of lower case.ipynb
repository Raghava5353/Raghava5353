{
 "cells": [
  {
   "cell_type": "code",
   "execution_count": 1,
   "id": "c6ab4d3f",
   "metadata": {},
   "outputs": [
    {
     "name": "stdout",
     "output_type": "stream",
     "text": [
      "No. of uppercase characters: 3\n",
      "No. of lowercase characters: 12\n"
     ]
    }
   ],
   "source": [
    "def count_upper_lower(string):\n",
    "    upper_count = 0\n",
    "    lower_count = 0\n",
    "\n",
    "    for char in string:\n",
    "        if char.isupper():\n",
    "            upper_count += 1\n",
    "        elif char.islower():\n",
    "            lower_count += 1\n",
    "\n",
    "    return upper_count, lower_count\n",
    "\n",
    "# Example usage\n",
    "sample_string = 'The quick Brow Fox'\n",
    "upper, lower = count_upper_lower(sample_string)\n",
    "print(\"No. of uppercase characters:\", upper)\n",
    "print(\"No. of lowercase characters:\", lower)\n"
   ]
  },
  {
   "cell_type": "code",
   "execution_count": null,
   "id": "453b0015",
   "metadata": {},
   "outputs": [],
   "source": []
  }
 ],
 "metadata": {
  "kernelspec": {
   "display_name": "Python 3 (ipykernel)",
   "language": "python",
   "name": "python3"
  },
  "language_info": {
   "codemirror_mode": {
    "name": "ipython",
    "version": 3
   },
   "file_extension": ".py",
   "mimetype": "text/x-python",
   "name": "python",
   "nbconvert_exporter": "python",
   "pygments_lexer": "ipython3",
   "version": "3.10.9"
  }
 },
 "nbformat": 4,
 "nbformat_minor": 5
}
